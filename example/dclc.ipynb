{
 "cells": [
  {
   "cell_type": "markdown",
   "id": "9149b228-a689-43a7-a947-e2ec74cc92d0",
   "metadata": {},
   "source": [
    "# Example calculation of slab DCLC"
   ]
  },
  {
   "cell_type": "code",
   "execution_count": null,
   "id": "bddcf034-b496-44b6-b4ea-527d4b7800ac",
   "metadata": {
    "tags": []
   },
   "outputs": [],
   "source": [
    "from __future__ import division, print_function\n",
    "\n",
    "import matplotlib as mpl\n",
    "import matplotlib.pyplot as plt\n",
    "import numpy as np\n",
    "\n",
    "import dredge as dr\n",
    "import dredge.special\n",
    "import dredge.vdf\n",
    "from dredge import ESPerp_GradRho_Species\n",
    "\n",
    "%load_ext autoreload\n",
    "%autoreload 2"
   ]
  },
  {
   "cell_type": "markdown",
   "id": "6021cca9-8173-4ca2-baa7-f8b010527925",
   "metadata": {},
   "source": [
    "## Plasma parameters"
   ]
  },
  {
   "cell_type": "code",
   "execution_count": null,
   "id": "39531f90-40b5-40fe-8951-76f398ccc8c0",
   "metadata": {
    "tags": []
   },
   "outputs": [],
   "source": [
    "mi = 2*1.67e-24  # deuterium mass in g\n",
    "me = 9.11e-28  # electron mass in g\n",
    "mi_me = mi/me  # ion/electron mass ratio\n",
    "\n",
    "Ti_Te = 8  # doesnt matter if not using warm electron response\n",
    "\n",
    "Omci_ompi = 2.530916e-2  # encodes n0, B0\n",
    "#Omce_ompe = Omci_ompi*mi_me**0.5\n",
    "\n",
    "epsilon = -1/1.5  # notice negative sign to put ion diamagnetic drift along +k\n",
    "bessel_nmax = 20"
   ]
  },
  {
   "cell_type": "code",
   "execution_count": null,
   "id": "2a4755d7-1abf-4173-abba-463f16bde71d",
   "metadata": {
    "tags": []
   },
   "outputs": [],
   "source": [
    "vperp = np.linspace(1e-6, 3, 500)\n",
    "Freduced = dr.vdf.gerver(vperp, 1, 10)"
   ]
  },
  {
   "cell_type": "code",
   "execution_count": null,
   "id": "6bc6f571-f4fa-4143-9c52-6c689937e9f4",
   "metadata": {
    "tags": []
   },
   "outputs": [],
   "source": [
    "plt.figure(figsize=(2,1.5))\n",
    "plt.plot(vperp, Freduced)\n",
    "plt.xlabel(r'$v_\\perp$')\n",
    "plt.ylabel('$F(v_\\perp)$')\n",
    "plt.show()"
   ]
  },
  {
   "cell_type": "markdown",
   "id": "ffa79fc2-bdde-4f7e-93da-379379ee89d2",
   "metadata": {
    "tags": []
   },
   "source": [
    "## Dispersion solve grid\n",
    "\n",
    "The $(k, \\Re\\omega, \\Im\\omega)$ grid of shape (301,301,202) uses about 1.7 GB memory"
   ]
  },
  {
   "cell_type": "code",
   "execution_count": null,
   "id": "12dd6a6a-2038-48bd-b8f4-bfc6fa0decaf",
   "metadata": {
    "tags": []
   },
   "outputs": [],
   "source": [
    "k_vec = np.linspace(1e-5, 15, 301)\n",
    "\n",
    "omega_re_vec = np.linspace(1e-5, 3.95, 301)\n",
    "\n",
    "omega_im_vec = np.linspace(0, 4, 201)\n",
    "#omega_im_vec = np.concatenate((-1*omega_im_vec[:0:-1], omega_im_vec))\n",
    "\n",
    "# ensure omega_im_vec=0 is not the \"boundary\" value\n",
    "# so that we can identify local minima with zero growth/damping\n",
    "omega_im_vec = np.insert(omega_im_vec, 0, -1*omega_im_vec[1])\n",
    "\n",
    "# require one sample point at Im(omega) = zero exactly\n",
    "# to get undamped normal modes\n",
    "assert np.any(omega_im_vec == 0.)"
   ]
  },
  {
   "cell_type": "markdown",
   "id": "7e65804a-4d3d-4b14-81e5-f46cae43b818",
   "metadata": {},
   "source": [
    "## Dispersion solve"
   ]
  },
  {
   "cell_type": "code",
   "execution_count": null,
   "id": "489d7fdb-ad62-49b6-affa-9ee12aa0978f",
   "metadata": {
    "tags": []
   },
   "outputs": [],
   "source": [
    "ionh = dr.ESPerp_GradRho_Species(\n",
    "    ms_m0 = 1,\n",
    "    qs_q0 = 1,\n",
    "    Ts_T0 = 1,\n",
    "    k0_vec = k_vec,\n",
    "    omega0_re_vec = omega_re_vec,\n",
    "    omega0_im_vec = omega_im_vec,\n",
    ")\n",
    "\n",
    "lec = dr.ESPerp_GradRho_Species(\n",
    "    ms_m0 = 1./mi_me,\n",
    "    qs_q0 = -1,\n",
    "    Ts_T0 = 1./Ti_Te,\n",
    "    k0_vec = k_vec,\n",
    "    omega0_re_vec = omega_re_vec,\n",
    "    omega0_im_vec = omega_im_vec,\n",
    ")"
   ]
  },
  {
   "cell_type": "code",
   "execution_count": null,
   "id": "7de6a36a-a727-49ee-a7d4-5ab65e0ff2a2",
   "metadata": {
    "tags": []
   },
   "outputs": [],
   "source": [
    "ionh.cache_besselJ_integrals(\n",
    "    bessel_nmax = bessel_nmax,\n",
    "    Freduced = Freduced,\n",
    "    vperp = vperp,\n",
    "    verbose = True,\n",
    ")\n",
    "\n",
    "# with_prime=False takes ~15 sec\n",
    "# with_prime=True takes ~30 sec\n",
    "ionh.cache_bessel_sums(verbose=True, with_prime=False)"
   ]
  },
  {
   "cell_type": "markdown",
   "id": "b91a89d0-c9f3-4d50-9b06-b74c58221388",
   "metadata": {
    "tags": []
   },
   "source": [
    "## Compute full dispersion relation and find approximate roots"
   ]
  },
  {
   "cell_type": "code",
   "execution_count": null,
   "id": "368bbf22-5791-48b9-9b88-b7761196cf8f",
   "metadata": {
    "tags": []
   },
   "outputs": [],
   "source": [
    "chi_i = ionh.chi_perp_kinetic(\n",
    "    epsilon0 = epsilon,\n",
    "    ns_n0 = 1,\n",
    "    omp0_Omc0 = 1./Omci_ompi,\n",
    ")\n",
    "\n",
    "chi_e = lec.chi_perp_fluid(\n",
    "    epsilon0 = epsilon,\n",
    "    ns_n0 = 1,\n",
    "    omp0_Omc0 = 1./Omci_ompi,\n",
    "    warm = False,\n",
    ")\n",
    "\n",
    "# dispersion D\n",
    "dd = 1 + chi_i + chi_e"
   ]
  },
  {
   "cell_type": "code",
   "execution_count": null,
   "id": "6a7b509d-0187-4628-b45a-0f3b08963883",
   "metadata": {
    "tags": []
   },
   "outputs": [],
   "source": [
    "inds = ionh.grid_roots(np.abs(dd))\n",
    "k_root = k_vec[inds[0]]\n",
    "omega_re_root = omega_re_vec[inds[1]]\n",
    "omega_im_root = omega_im_vec[inds[2]]"
   ]
  },
  {
   "cell_type": "code",
   "execution_count": null,
   "id": "fdb452a5-d0c3-4a47-a22a-002aa7ef39f7",
   "metadata": {
    "tags": []
   },
   "outputs": [],
   "source": [
    "stable = omega_im_root == 0.\n",
    "unstab = omega_im_root > 0"
   ]
  },
  {
   "cell_type": "markdown",
   "id": "6e77a881-2e4e-4f7b-894b-dac96f56149b",
   "metadata": {},
   "source": [
    "## Plot dispersion relation"
   ]
  },
  {
   "cell_type": "code",
   "execution_count": null,
   "id": "684ba469-f03a-451a-a628-c0d9d7cd42ba",
   "metadata": {
    "tags": []
   },
   "outputs": [],
   "source": [
    "plt.figure(figsize=(3.375,2))\n",
    "\n",
    "plt.plot(k_root[stable], omega_re_root[stable], '.', markersize=1, c='k', label=r'Stable $\\Re(\\omega)$')\n",
    "plt.plot(k_root[unstab], omega_re_root[unstab], '-', label=r'Unstable $\\Re(\\omega)$')\n",
    "plt.plot(k_root[unstab], omega_im_root[unstab], '-', label=r'Unstable $\\Im(\\omega)$')\n",
    "\n",
    "plt.grid()\n",
    "plt.xlabel(r'$k \\rho_\\mathrm{Li}$')\n",
    "plt.ylabel(r'$\\omega/\\Omega_\\mathrm{ci}$')\n",
    "\n",
    "plt.xlim(0, np.amax(k_vec))\n",
    "plt.ylim(0, np.amax(omega_re_vec))\n",
    "plt.legend(ncol=3, loc='upper left', fontsize='x-small')\n",
    "\n",
    "plt.show()"
   ]
  },
  {
   "cell_type": "code",
   "execution_count": null,
   "id": "0b06d409-bfa5-4fd0-826e-c11356bf7fb3",
   "metadata": {
    "tags": []
   },
   "outputs": [],
   "source": [
    "k_select = 4\n",
    "ik = np.searchsorted(k_vec, k_select)"
   ]
  },
  {
   "cell_type": "code",
   "execution_count": null,
   "id": "15e9f7a0-83f1-4c44-b3a8-77216c4e48a3",
   "metadata": {
    "tags": []
   },
   "outputs": [],
   "source": [
    "plt.imshow(\n",
    "    np.abs(dd[ik,:,:]).T, origin='lower',\n",
    "    extent=ionh.mesh_extent()[2:],\n",
    "    interpolation='none',\n",
    "    norm=mpl.colors.LogNorm(vmin=1e0, vmax=1e3),\n",
    "    cmap='turbo',\n",
    ")\n",
    "plt.gca().set_aspect('auto')\n",
    "plt.xlabel(r'$\\Re(\\omega)$')\n",
    "plt.ylabel(r'$\\Im(\\omega)$')\n",
    "plt.colorbar()\n",
    "plt.title(r'$|\\mathcal{{D}}(k={:.2f})|$'.format(k_vec[ik]))\n",
    "plt.show()"
   ]
  }
 ],
 "metadata": {
  "kernelspec": {
   "display_name": "Python 3 (ipykernel)",
   "language": "python",
   "name": "python3"
  },
  "language_info": {
   "codemirror_mode": {
    "name": "ipython",
    "version": 3
   },
   "file_extension": ".py",
   "mimetype": "text/x-python",
   "name": "python",
   "nbconvert_exporter": "python",
   "pygments_lexer": "ipython3",
   "version": "3.11.5"
  }
 },
 "nbformat": 4,
 "nbformat_minor": 5
}
